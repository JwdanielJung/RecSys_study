{
 "cells": [
  {
   "cell_type": "code",
   "execution_count": 1,
   "metadata": {},
   "outputs": [],
   "source": [
    "import torch\n",
    "import pandas as pd\n",
    "import torch.nn.functional as F\n",
    "import matplotlib.pyplot as plt"
   ]
  },
  {
   "cell_type": "code",
   "execution_count": 2,
   "metadata": {},
   "outputs": [
    {
     "data": {
      "text/plain": [
       "True"
      ]
     },
     "execution_count": 2,
     "metadata": {},
     "output_type": "execute_result"
    }
   ],
   "source": [
    "torch.cuda.is_available()"
   ]
  },
  {
   "cell_type": "code",
   "execution_count": 30,
   "metadata": {},
   "outputs": [
    {
     "name": "stdout",
     "output_type": "stream",
     "text": [
      "cuda:0\n"
     ]
    }
   ],
   "source": [
    "device = torch.device(\"cuda:0\" if torch.cuda.is_available() else \"cpu\")\n",
    "print(device)"
   ]
  },
  {
   "cell_type": "code",
   "execution_count": 4,
   "metadata": {},
   "outputs": [
    {
     "data": {
      "text/html": [
       "<div>\n",
       "<style scoped>\n",
       "    .dataframe tbody tr th:only-of-type {\n",
       "        vertical-align: middle;\n",
       "    }\n",
       "\n",
       "    .dataframe tbody tr th {\n",
       "        vertical-align: top;\n",
       "    }\n",
       "\n",
       "    .dataframe thead th {\n",
       "        text-align: right;\n",
       "    }\n",
       "</style>\n",
       "<table border=\"1\" class=\"dataframe\">\n",
       "  <thead>\n",
       "    <tr style=\"text-align: right;\">\n",
       "      <th></th>\n",
       "      <th>user</th>\n",
       "      <th>movie</th>\n",
       "      <th>rating</th>\n",
       "      <th>ts</th>\n",
       "    </tr>\n",
       "  </thead>\n",
       "  <tbody>\n",
       "    <tr>\n",
       "      <th>0</th>\n",
       "      <td>1</td>\n",
       "      <td>1</td>\n",
       "      <td>5</td>\n",
       "      <td>874965758</td>\n",
       "    </tr>\n",
       "    <tr>\n",
       "      <th>1</th>\n",
       "      <td>1</td>\n",
       "      <td>2</td>\n",
       "      <td>3</td>\n",
       "      <td>876893171</td>\n",
       "    </tr>\n",
       "    <tr>\n",
       "      <th>2</th>\n",
       "      <td>1</td>\n",
       "      <td>3</td>\n",
       "      <td>4</td>\n",
       "      <td>878542960</td>\n",
       "    </tr>\n",
       "    <tr>\n",
       "      <th>3</th>\n",
       "      <td>1</td>\n",
       "      <td>4</td>\n",
       "      <td>3</td>\n",
       "      <td>876893119</td>\n",
       "    </tr>\n",
       "    <tr>\n",
       "      <th>4</th>\n",
       "      <td>1</td>\n",
       "      <td>5</td>\n",
       "      <td>3</td>\n",
       "      <td>889751712</td>\n",
       "    </tr>\n",
       "  </tbody>\n",
       "</table>\n",
       "</div>"
      ],
      "text/plain": [
       "   user  movie  rating         ts\n",
       "0     1      1       5  874965758\n",
       "1     1      2       3  876893171\n",
       "2     1      3       4  878542960\n",
       "3     1      4       3  876893119\n",
       "4     1      5       3  889751712"
      ]
     },
     "execution_count": 4,
     "metadata": {},
     "output_type": "execute_result"
    }
   ],
   "source": [
    "train = pd.read_csv('/home/jwjung/Recsys/ml-100k/ml-100k/ua.base'\n",
    ",sep = '\\t', names = ['user','movie','rating','ts'])\n",
    "test = pd.read_csv('/home/jwjung/Recsys/ml-100k/ml-100k/ua.test'\n",
    ",sep = '\\t', names = ['user','movie','rating','ts'])\n",
    "\n",
    "train.head()"
   ]
  },
  {
   "cell_type": "code",
   "execution_count": 5,
   "metadata": {},
   "outputs": [],
   "source": [
    "items = torch.LongTensor(train['movie'])\n",
    "users = torch.LongTensor(train['user'])\n",
    "ratings = torch.FloatTensor(train['rating'])"
   ]
  },
  {
   "cell_type": "code",
   "execution_count": 7,
   "metadata": {},
   "outputs": [],
   "source": [
    "items_test = torch.LongTensor(test['movie'])\n",
    "users_test = torch.LongTensor(test['user'])\n",
    "ratings_test = torch.FloatTensor(test['rating'])"
   ]
  },
  {
   "cell_type": "code",
   "execution_count": 9,
   "metadata": {},
   "outputs": [
    {
     "name": "stdout",
     "output_type": "stream",
     "text": [
      "epoch: 0, cost: 113.22349548339844\n",
      "epoch: 100, cost: 0.07415642589330673\n",
      "epoch: 200, cost: 0.02603706531226635\n",
      "epoch: 300, cost: 0.012116883881390095\n",
      "epoch: 400, cost: 0.006513094529509544\n",
      "epoch: 500, cost: 0.0038396616000682116\n",
      "epoch: 600, cost: 0.0024231839925050735\n",
      "epoch: 700, cost: 0.0015664342790842056\n",
      "epoch: 800, cost: 0.0010517718037590384\n",
      "epoch: 900, cost: 0.0007269495399668813\n"
     ]
    }
   ],
   "source": [
    "latent_dim = 100\n",
    "\n",
    "num_items = items.max() + 1\n",
    "num_users = users.max() + 1\n",
    "\n",
    "torch.manual_seed(23)\n",
    "\n",
    "P = torch.randn(num_items, latent_dim, requires_grad = True)\n",
    "Q = torch.randn(num_users, latent_dim, requires_grad = True)\n",
    "\n",
    "optimizer = torch.optim.Adam([P,Q], lr = 0.1)\n",
    "\n",
    "# P = P.to(device)\n",
    "# Q = Q.to(device)\n",
    "\n",
    "for epoch in range(1000):\n",
    "    \"\"\"\n",
    "    1. P[items]는 P에서 해당하는 item의 벡터만 따로 뽑아오는 의미\n",
    "    P가 하나의 look-up table로서 작용\n",
    "\n",
    "    2. torch.sum에서 dim 없으면 전체 원소 합 도출\n",
    "    -> dim = 1은 2차원 기준으로 row 단위로 합 구하라는 의미\n",
    "    -> 여기서 dim = 1로 sum 하는 이유: 각 벡터의 feature 별 elementwise product 값이 도출된 결과가\n",
    "    rating matrix의 하나의 element로 존재 -> 그 값을 전부 더해줘야 하나의 rating 도출 가능\n",
    "    ex) feature dim = 3일 때 P*Q 결과: [-1,2,2] => 각 feature 별 점수 합친 3이 pred_rating 임!!\n",
    "\n",
    "    3. P * Q 는 elementwise product -> dot product 아님!!! (dot product는 torch.matmul 사용)\n",
    "    \"\"\"\n",
    "    hypothesis = torch.sum(P[items] * Q[users],dim = 1)\n",
    "    cost = F.mse_loss(hypothesis, ratings)\n",
    "\n",
    "    optimizer.zero_grad() # zero_grad 처리 안해줄 시, 이전 epoch에서 구한 grad값이 남아있어서 값이 더해짐! -> 그 값날린다 생각 (초기화)\n",
    "    cost.backward() # backpropagation 진행\n",
    "    optimizer.step() # backprop 진행 시 나온 변화도로 parameter 조정\n",
    "\n",
    "    if epoch % 100 == 0:\n",
    "        print(f\"epoch: {epoch}, cost: {cost.item()}\")"
   ]
  },
  {
   "cell_type": "code",
   "execution_count": 12,
   "metadata": {},
   "outputs": [
    {
     "name": "stdout",
     "output_type": "stream",
     "text": [
      "epoch: 0, cost: 3.773289918899536\n",
      "epoch: 100, cost: 0.0004792663094121963\n",
      "epoch: 200, cost: 6.285190465860069e-05\n",
      "epoch: 300, cost: 1.6005731595214456e-05\n",
      "epoch: 400, cost: 1.5689463907619938e-05\n",
      "epoch: 500, cost: 2.3776483430992812e-05\n",
      "epoch: 600, cost: 1.382586924592033e-05\n",
      "epoch: 700, cost: 2.9950553653179668e-05\n",
      "epoch: 800, cost: 3.708141593961045e-05\n",
      "epoch: 900, cost: 2.3223290554597043e-05\n"
     ]
    },
    {
     "data": {
      "image/png": "[encoded data removed]",
      "text/plain": [
       "<Figure size 640x480 with 1 Axes>"
      ]
     },
     "metadata": {},
     "output_type": "display_data"
    }
   ],
   "source": [
    "optimizer = torch.optim.Adam([P, Q], lr= 0.1)\n",
    "\n",
    "X = []\n",
    "Y = []\n",
    "\n",
    "for epoch in range(1000):\n",
    "\n",
    "    hypothesis = torch.sum(P[items] * Q[users], dim= 1)\n",
    "    cost = F.mse_loss(hypothesis ,ratings)\n",
    "    \n",
    "    optimizer.zero_grad()\n",
    "    cost.backward()\n",
    "    optimizer.step()\n",
    "\n",
    "    X.append(epoch)\n",
    "    Y.append(cost.item())\n",
    "\n",
    "    if epoch % 100 == 0:\n",
    "        print(f\"epoch: {epoch}, cost: {cost.item()}\")\n",
    "\n",
    "plt.ylabel(\"MSE\")\n",
    "plt.xlabel(\"Epoch\")\n",
    "plt.plot(X,Y, c=\"blue\", label=\"Training MSE\")\n",
    "plt.legend()\n",
    "plt.show()"
   ]
  },
  {
   "cell_type": "markdown",
   "metadata": {},
   "source": [
    "### Evaluation"
   ]
  },
  {
   "cell_type": "code",
   "execution_count": 14,
   "metadata": {},
   "outputs": [
    {
     "name": "stdout",
     "output_type": "stream",
     "text": [
      "epoch: 0, cost: 97.34024047851562\n",
      "epoch: 100, cost: 23.13702392578125\n",
      "epoch: 200, cost: 24.422210693359375\n",
      "epoch: 300, cost: 25.24277114868164\n",
      "epoch: 400, cost: 25.815757751464844\n",
      "epoch: 500, cost: 26.21258544921875\n",
      "epoch: 600, cost: 26.496997833251953\n",
      "epoch: 700, cost: 26.70473289489746\n",
      "epoch: 800, cost: 26.854867935180664\n",
      "epoch: 900, cost: 26.959928512573242\n"
     ]
    },
    {
     "data": {
      "image/png": "[encoded data removed]",
      "text/plain": [
       "<Figure size 640x480 with 1 Axes>"
      ]
     },
     "metadata": {},
     "output_type": "display_data"
    }
   ],
   "source": [
    "latent_dim = 100\n",
    "\n",
    "num_items = items.max() + 1\n",
    "num_users = users.max() + 1\n",
    "\n",
    "torch.manual_seed(20)\n",
    "\n",
    "P = torch.randn(num_items, latent_dim, requires_grad = True)\n",
    "Q = torch.randn(num_users, latent_dim, requires_grad = True)\n",
    "\n",
    "optimizer = torch.optim.Adam([P,Q], lr = 0.1)\n",
    "\n",
    "X = []\n",
    "Y = []\n",
    "Y_test = []\n",
    "\n",
    "for epoch in range(1000):\n",
    "\n",
    "    hypothesis = torch.sum(P[items] * Q[users], dim= 1)\n",
    "    cost = F.mse_loss(hypothesis ,ratings)\n",
    "\n",
    "    optimizer.zero_grad()\n",
    "    cost.backward()\n",
    "    optimizer.step()\n",
    "\n",
    "    # 기울기 계산 필요 없다.\n",
    "    with torch.no_grad():\n",
    "        # 만들어진 P, Q matrix로 예측값을 뽑아내고 검증데이터와 비교.\n",
    "        hypo_test = torch.sum(P[items_test] * Q[users_test], dim=1)\n",
    "        cost_test = F.mse_loss(hypo_test, ratings_test)\n",
    "\n",
    "        X.append(epoch)\n",
    "        Y.append(cost.item())\n",
    "        Y_test.append(cost_test.item())\n",
    "\n",
    "    if epoch % 100 == 0:\n",
    "        print(f\"epoch: {epoch}, cost: {cost_test.item()}\")\n",
    "\n",
    "plt.ylabel(\"MSE\")\n",
    "plt.xlabel(\"Epoch\")\n",
    "plt.plot(X,Y, c=\"blue\", label=\"Training MSE\")\n",
    "plt.plot(X,Y_test, c=\"red\", label=\"Test MSE\")\n",
    "plt.legend()\n",
    "plt.show()"
   ]
  },
  {
   "cell_type": "markdown",
   "metadata": {},
   "source": [
    "### MF by GPU"
   ]
  },
  {
   "cell_type": "code",
   "execution_count": 24,
   "metadata": {},
   "outputs": [],
   "source": [
    "items_gpu = torch.cuda.LongTensor(train['movie'])\n",
    "users_gpu = torch.cuda.LongTensor(train['user'])\n",
    "ratings_gpu = torch.cuda.FloatTensor(train['rating'])\n",
    "\n",
    "items_test_gpu = torch.cuda.LongTensor(test['movie'])\n",
    "users_test_gpu = torch.cuda.LongTensor(test['user'])\n",
    "ratings_test_gpu = torch.cuda.FloatTensor(test['rating'])"
   ]
  },
  {
   "cell_type": "code",
   "execution_count": 37,
   "metadata": {},
   "outputs": [
    {
     "name": "stdout",
     "output_type": "stream",
     "text": [
      "epoch: 0, cost: 528.2863159179688\n",
      "epoch: 100, cost: 0.0019956617616117\n",
      "epoch: 200, cost: 6.43480362327864e-08\n",
      "epoch: 300, cost: 9.286424028687179e-05\n",
      "epoch: 400, cost: 0.0003572636633180082\n",
      "epoch: 500, cost: 0.0024175920989364386\n",
      "epoch: 600, cost: 0.0039963023737072945\n",
      "epoch: 700, cost: 0.004064539447426796\n",
      "epoch: 800, cost: 0.003977971151471138\n",
      "epoch: 900, cost: 0.006441423669457436\n"
     ]
    },
    {
     "data": {
      "image/png": "[encoded data removed]",
      "text/plain": [
       "<Figure size 640x480 with 1 Axes>"
      ]
     },
     "metadata": {},
     "output_type": "display_data"
    }
   ],
   "source": [
    "latent_dim = 512\n",
    "\n",
    "num_items_gpu = items_gpu.max() + 1\n",
    "num_users_gpu = users_gpu.max() + 1\n",
    "\n",
    "torch.manual_seed(18)\n",
    "\n",
    "P_gpu = torch.randn(num_items_gpu, latent_dim, requires_grad = True, device = 'cuda:0')\n",
    "Q_gpu = torch.randn(num_users_gpu, latent_dim, requires_grad = True, device = 'cuda:0')\n",
    "\n",
    "\n",
    "optimizer = torch.optim.Adam([P_gpu,Q_gpu], lr = 0.1)\n",
    "\n",
    "P_gpu = P_gpu.to(device)\n",
    "Q_gpu = Q_gpu.to(device)\n",
    "\n",
    "X = []\n",
    "Y = []\n",
    "\n",
    "for epoch in range(1000):\n",
    "    hypothesis_gpu = torch.sum(P_gpu[items_gpu] * Q_gpu[users_gpu],dim = 1)\n",
    "    cost = F.mse_loss(hypothesis_gpu, ratings_gpu)\n",
    "\n",
    "    optimizer.zero_grad()\n",
    "    cost.backward() \n",
    "    optimizer.step() \n",
    "\n",
    "    X.append(epoch)\n",
    "    Y.append(cost.item())   \n",
    "\n",
    "    if epoch % 100 == 0:\n",
    "        print(f\"epoch: {epoch}, cost: {cost.item()}\")\n",
    "\n",
    "plt.ylabel(\"MSE\")\n",
    "plt.xlabel(\"Epoch\")\n",
    "plt.plot(X,Y, c=\"blue\", label=\"Training MSE\")\n",
    "plt.legend()\n",
    "plt.show()"
   ]
  },
  {
   "cell_type": "code",
   "execution_count": 40,
   "metadata": {},
   "outputs": [
    {
     "name": "stdout",
     "output_type": "stream",
     "text": [
      "epoch: 0, cost: 478.6468505859375\n",
      "epoch: 100, cost: 204.5281219482422\n",
      "epoch: 200, cost: 204.44227600097656\n",
      "epoch: 300, cost: 204.433837890625\n",
      "epoch: 400, cost: 204.30523681640625\n",
      "epoch: 500, cost: 204.0463409423828\n",
      "epoch: 600, cost: 203.54644775390625\n",
      "epoch: 700, cost: 202.708984375\n",
      "epoch: 800, cost: 201.54368591308594\n",
      "epoch: 900, cost: 199.9500274658203\n"
     ]
    },
    {
     "data": {
      "image/png": "[encoded data removed]",
      "text/plain": [
       "<Figure size 640x480 with 1 Axes>"
      ]
     },
     "metadata": {},
     "output_type": "display_data"
    }
   ],
   "source": [
    "latent_dim = 512\n",
    "\n",
    "num_items = items_gpu.max() + 1\n",
    "num_users = users_gpu.max() + 1\n",
    "\n",
    "torch.manual_seed(20)\n",
    "\n",
    "P_gpu = torch.randn(num_items_gpu, latent_dim, requires_grad = True, device = 'cuda:0')\n",
    "Q_gpu = torch.randn(num_users_gpu, latent_dim, requires_grad = True, device = 'cuda:0')\n",
    "\n",
    "optimizer = torch.optim.Adam([P_gpu,Q_gpu], lr = 0.1)\n",
    "\n",
    "P_gpu.to(device)\n",
    "Q_gpu.to(device)\n",
    "\n",
    "X = []\n",
    "Y = []\n",
    "Y_test = []\n",
    "\n",
    "for epoch in range(1000):\n",
    "\n",
    "    hypothesis_gpu = torch.sum(P_gpu[items_gpu] * Q_gpu[users_gpu], dim= 1)\n",
    "    cost = F.mse_loss(hypothesis_gpu ,ratings_gpu)\n",
    "\n",
    "    optimizer.zero_grad()\n",
    "    cost.backward()\n",
    "    optimizer.step()\n",
    "\n",
    "    # 기울기 계산 필요 없다.\n",
    "    with torch.no_grad():\n",
    "        # 만들어진 P, Q matrix로 예측값을 뽑아내고 검증데이터와 비교.\n",
    "        hypo_test_gpu = torch.sum(P_gpu[items_test_gpu] * Q_gpu[users_test_gpu], dim=1)\n",
    "        cost_test = F.mse_loss(hypo_test_gpu, ratings_test_gpu)\n",
    "\n",
    "        X.append(epoch)\n",
    "        Y.append(cost.item())\n",
    "        Y_test.append(cost_test.item())\n",
    "\n",
    "    if epoch % 100 == 0:\n",
    "        print(f\"epoch: {epoch}, cost: {cost_test.item()}\")\n",
    "\n",
    "plt.ylabel(\"MSE\")\n",
    "plt.xlabel(\"Epoch\")\n",
    "plt.plot(X,Y, c=\"blue\", label=\"Training MSE\")\n",
    "plt.plot(X,Y_test, c=\"red\", label=\"Test MSE\")\n",
    "plt.legend()\n",
    "plt.show()"
   ]
  },
  {
   "cell_type": "markdown",
   "metadata": {},
   "source": [
    "### Regulation 추가"
   ]
  },
  {
   "cell_type": "code",
   "execution_count": 42,
   "metadata": {},
   "outputs": [
    {
     "name": "stdout",
     "output_type": "stream",
     "text": [
      "epoch: 0, cost: 528.2863159179688\n",
      "epoch: 100, cost: 13.684283256530762\n",
      "epoch: 200, cost: 13.685381889343262\n",
      "epoch: 300, cost: 13.685381889343262\n",
      "epoch: 400, cost: 13.685381889343262\n",
      "epoch: 500, cost: 13.685381889343262\n",
      "epoch: 600, cost: 13.685381889343262\n",
      "epoch: 700, cost: 13.685381889343262\n",
      "epoch: 800, cost: 13.685381889343262\n",
      "epoch: 900, cost: 13.685381889343262\n"
     ]
    },
    {
     "data": {
      "image/png": "[encoded data removed]",
      "text/plain": [
       "<Figure size 640x480 with 1 Axes>"
      ]
     },
     "metadata": {},
     "output_type": "display_data"
    }
   ],
   "source": [
    "latent_dim = 512\n",
    "\n",
    "lambda1 = 0.01\n",
    "\n",
    "num_items_gpu = items_gpu.max() + 1\n",
    "num_users_gpu = users_gpu.max() + 1\n",
    "\n",
    "torch.manual_seed(18)\n",
    "\n",
    "P_gpu = torch.randn(num_items_gpu, latent_dim, requires_grad = True, device = 'cuda:0')\n",
    "Q_gpu = torch.randn(num_users_gpu, latent_dim, requires_grad = True, device = 'cuda:0')\n",
    "\n",
    "optimizer = torch.optim.Adam([P_gpu,Q_gpu], lr = 0.1)\n",
    "\n",
    "P_gpu = P_gpu.to(device)\n",
    "Q_gpu = Q_gpu.to(device)\n",
    "\n",
    "X = []\n",
    "Y = []\n",
    "\n",
    "for epoch in range(1000):\n",
    "    hypothesis_gpu = torch.sum(P_gpu[items_gpu] * Q_gpu[users_gpu],dim = 1)\n",
    "    cost = F.mse_loss(hypothesis_gpu, ratings_gpu)\n",
    "    loss = cost + lambda1*torch.sum(P_gpu**2) + lambda1*torch.sum(Q_gpu**2) \n",
    "\n",
    "    optimizer.zero_grad()\n",
    "    loss.backward() \n",
    "    optimizer.step() \n",
    "\n",
    "    X.append(epoch)\n",
    "    Y.append(cost.item())   \n",
    "\n",
    "    if epoch % 100 == 0:\n",
    "        print(f\"epoch: {epoch}, cost: {cost.item()}\")\n",
    "\n",
    "plt.ylabel(\"MSE\")\n",
    "plt.xlabel(\"Epoch\")\n",
    "plt.plot(X,Y, c=\"blue\", label=\"Training MSE\")\n",
    "plt.legend()\n",
    "plt.show()"
   ]
  },
  {
   "cell_type": "code",
   "execution_count": 60,
   "metadata": {},
   "outputs": [
    {
     "name": "stdout",
     "output_type": "stream",
     "text": [
      "epoch: 0, cost: 478.6468505859375\n",
      "epoch: 100, cost: 204.5281219482422\n",
      "epoch: 200, cost: 204.44227600097656\n",
      "epoch: 300, cost: 204.433837890625\n",
      "epoch: 400, cost: 204.30523681640625\n",
      "epoch: 500, cost: 204.0463409423828\n",
      "epoch: 600, cost: 203.54644775390625\n",
      "epoch: 700, cost: 202.708984375\n",
      "epoch: 800, cost: 201.54368591308594\n",
      "epoch: 900, cost: 199.9500274658203\n",
      "epoch: 1000, cost: 197.9168701171875\n",
      "epoch: 1100, cost: 195.48199462890625\n",
      "epoch: 1200, cost: 192.67044067382812\n",
      "epoch: 1300, cost: 189.32830810546875\n",
      "epoch: 1400, cost: 185.7309112548828\n",
      "epoch: 1500, cost: 181.60885620117188\n",
      "epoch: 1600, cost: 177.28546142578125\n",
      "epoch: 1700, cost: 172.7411346435547\n",
      "epoch: 1800, cost: 167.8766632080078\n",
      "epoch: 1900, cost: 162.99603271484375\n",
      "epoch: 2000, cost: 157.81800842285156\n",
      "epoch: 2100, cost: 152.50425720214844\n",
      "epoch: 2200, cost: 147.36669921875\n",
      "epoch: 2300, cost: 141.99591064453125\n",
      "epoch: 2400, cost: 136.61563110351562\n",
      "epoch: 2500, cost: 131.6019287109375\n",
      "epoch: 2600, cost: 126.36647033691406\n",
      "epoch: 2700, cost: 121.36555480957031\n",
      "epoch: 2800, cost: 116.38019561767578\n",
      "epoch: 2900, cost: 111.44454956054688\n",
      "epoch: 3000, cost: 106.77803039550781\n",
      "epoch: 3100, cost: 102.17694091796875\n",
      "epoch: 3200, cost: 97.96375274658203\n",
      "epoch: 3300, cost: 93.75370025634766\n",
      "epoch: 3400, cost: 89.34009552001953\n",
      "epoch: 3500, cost: 85.7478256225586\n",
      "epoch: 3600, cost: 82.03797912597656\n",
      "epoch: 3700, cost: 78.62994384765625\n",
      "epoch: 3800, cost: 75.35896301269531\n",
      "epoch: 3900, cost: 72.49955749511719\n",
      "epoch: 4000, cost: 69.39247131347656\n",
      "epoch: 4100, cost: 66.6313247680664\n",
      "epoch: 4200, cost: 64.13639068603516\n",
      "epoch: 4300, cost: 61.53654479980469\n",
      "epoch: 4400, cost: 59.57439041137695\n",
      "epoch: 4500, cost: 57.25507354736328\n",
      "epoch: 4600, cost: 54.98119354248047\n",
      "epoch: 4700, cost: 53.11179733276367\n",
      "epoch: 4800, cost: 51.70645523071289\n",
      "epoch: 4900, cost: 49.95707702636719\n",
      "epoch: 5000, cost: 48.56058883666992\n",
      "epoch: 5100, cost: 46.63461685180664\n",
      "epoch: 5200, cost: 45.72321319580078\n",
      "epoch: 5300, cost: 44.819000244140625\n",
      "epoch: 5400, cost: 43.54875564575195\n",
      "epoch: 5500, cost: 42.0389518737793\n",
      "epoch: 5600, cost: 41.330448150634766\n",
      "epoch: 5700, cost: 40.72502517700195\n",
      "epoch: 5800, cost: 39.754676818847656\n",
      "epoch: 5900, cost: 39.11128616333008\n",
      "epoch: 6000, cost: 38.161399841308594\n",
      "epoch: 6100, cost: 37.549217224121094\n",
      "epoch: 6200, cost: 36.599517822265625\n",
      "epoch: 6300, cost: 35.753875732421875\n",
      "epoch: 6400, cost: 35.28133010864258\n",
      "epoch: 6500, cost: 34.7971076965332\n",
      "epoch: 6600, cost: 34.14494323730469\n",
      "epoch: 6700, cost: 33.33277893066406\n",
      "epoch: 6800, cost: 32.44932174682617\n",
      "epoch: 6900, cost: 31.818504333496094\n",
      "epoch: 7000, cost: 31.38147735595703\n",
      "epoch: 7100, cost: 30.44650650024414\n",
      "epoch: 7200, cost: 29.633804321289062\n",
      "epoch: 7300, cost: 28.891502380371094\n",
      "epoch: 7400, cost: 27.89667510986328\n",
      "epoch: 7500, cost: 26.836732864379883\n",
      "epoch: 7600, cost: 25.883487701416016\n",
      "epoch: 7700, cost: 25.19706916809082\n",
      "epoch: 7800, cost: 24.356914520263672\n",
      "epoch: 7900, cost: 24.068635940551758\n",
      "epoch: 8000, cost: 22.702882766723633\n",
      "epoch: 8100, cost: 21.97771644592285\n",
      "epoch: 8200, cost: 20.73819923400879\n",
      "epoch: 8300, cost: 19.600948333740234\n",
      "epoch: 8400, cost: 19.538516998291016\n",
      "epoch: 8500, cost: 18.279964447021484\n",
      "epoch: 8600, cost: 17.139631271362305\n",
      "epoch: 8700, cost: 15.979551315307617\n",
      "epoch: 8800, cost: 15.698548316955566\n",
      "epoch: 8900, cost: 14.523382186889648\n",
      "epoch: 9000, cost: 13.885356903076172\n",
      "epoch: 9100, cost: 13.340269088745117\n",
      "epoch: 9200, cost: 12.085668563842773\n",
      "epoch: 9300, cost: 11.667430877685547\n",
      "epoch: 9400, cost: 48.5809440612793\n",
      "epoch: 9500, cost: 47.942527770996094\n",
      "epoch: 9600, cost: 48.05669403076172\n",
      "epoch: 9700, cost: 48.088722229003906\n",
      "epoch: 9800, cost: 48.099449157714844\n",
      "epoch: 9900, cost: 48.103485107421875\n"
     ]
    },
    {
     "data": {
      "image/png": "[encoded data removed]",
      "text/plain": [
       "<Figure size 640x480 with 1 Axes>"
      ]
     },
     "metadata": {},
     "output_type": "display_data"
    }
   ],
   "source": [
    "latent_dim = 512\n",
    "\n",
    "num_items = items_gpu.max() + 1\n",
    "num_users = users_gpu.max() + 1\n",
    "\n",
    "torch.manual_seed(20)\n",
    "\n",
    "P_gpu = torch.randn(num_items_gpu, latent_dim, requires_grad = True, device = 'cuda:0')\n",
    "Q_gpu = torch.randn(num_users_gpu, latent_dim, requires_grad = True, device = 'cuda:0')\n",
    "\n",
    "optimizer = torch.optim.Adam([P_gpu,Q_gpu], lr = 0.1)\n",
    "\n",
    "P_gpu.to(device)\n",
    "Q_gpu.to(device)\n",
    "\n",
    "X = []\n",
    "Y = []\n",
    "Y_test = []\n",
    "\n",
    "for epoch in range(10000):\n",
    "\n",
    "    hypothesis_gpu = torch.sum(P_gpu[items_gpu] * Q_gpu[users_gpu], dim= 1)\n",
    "    cost = F.mse_loss(hypothesis_gpu ,ratings_gpu)\n",
    "    loss = cost + lambda1*torch.sum(P_gpu**2) + lambda1*torch.sum(Q_gpu**2) \n",
    "\n",
    "    optimizer.zero_grad()\n",
    "    cost.backward()\n",
    "    optimizer.step()\n",
    "\n",
    "    # 기울기 계산 필요 없다.\n",
    "    with torch.no_grad():\n",
    "        # 만들어진 P, Q matrix로 예측값을 뽑아내고 검증데이터와 비교.\n",
    "        hypo_test_gpu = torch.sum(P_gpu[items_test_gpu] * Q_gpu[users_test_gpu], dim=1)\n",
    "        cost_test = F.mse_loss(hypo_test_gpu, ratings_test_gpu)\n",
    "\n",
    "        X.append(epoch)\n",
    "        Y.append(cost.item())\n",
    "        Y_test.append(cost_test.item())\n",
    "\n",
    "    if epoch % 100 == 0:\n",
    "        print(f\"epoch: {epoch}, cost: {cost_test.item()}\")\n",
    "\n",
    "plt.ylabel(\"MSE\")\n",
    "plt.xlabel(\"Epoch\")\n",
    "plt.plot(X,Y, c=\"blue\", label=\"Training MSE\")\n",
    "plt.plot(X,Y_test, c=\"red\", label=\"Test MSE\")\n",
    "plt.legend()\n",
    "plt.show()"
   ]
  },
  {
   "cell_type": "code",
   "execution_count": 58,
   "metadata": {},
   "outputs": [
    {
     "data": {
      "text/plain": [
       "tensor(7315.6748, device='cuda:0', grad_fn=<MulBackward0>)"
      ]
     },
     "execution_count": 58,
     "metadata": {},
     "output_type": "execute_result"
    }
   ],
   "source": [
    "lambda1*torch.sum(P_gpu**2) "
   ]
  },
  {
   "cell_type": "code",
   "execution_count": 61,
   "metadata": {},
   "outputs": [
    {
     "name": "stdout",
     "output_type": "stream",
     "text": [
      "epoch: 0, cost: 517.3966064453125\n"
     ]
    },
    {
     "name": "stdout",
     "output_type": "stream",
     "text": [
      "epoch: 100, cost: 1.2679747343063354\n",
      "epoch: 200, cost: 1.2680259943008423\n",
      "epoch: 300, cost: 1.2680259943008423\n",
      "epoch: 400, cost: 1.2680259943008423\n",
      "epoch: 500, cost: 1.2680259943008423\n",
      "epoch: 600, cost: 1.2680259943008423\n",
      "epoch: 700, cost: 1.2680259943008423\n",
      "epoch: 800, cost: 1.2680259943008423\n",
      "epoch: 900, cost: 1.2680259943008423\n"
     ]
    },
    {
     "data": {
      "image/png": "[encoded data removed]",
      "text/plain": [
       "<Figure size 640x480 with 1 Axes>"
      ]
     },
     "metadata": {},
     "output_type": "display_data"
    }
   ],
   "source": [
    "latent_dim = 512\n",
    "\n",
    "lambda1 = 0.01\n",
    "\n",
    "num_items_gpu = items_gpu.max() + 1\n",
    "num_users_gpu = users_gpu.max() + 1\n",
    "\n",
    "torch.manual_seed(15)\n",
    "\n",
    "P_gpu = torch.randn(num_items_gpu, latent_dim, requires_grad = True, device = 'cuda:0')\n",
    "Q_gpu = torch.randn(num_users_gpu, latent_dim, requires_grad = True, device = 'cuda:0')\n",
    "\n",
    "bias_item = torch.randn(num_items_gpu, requires_grad = True, device = 'cuda:0')\n",
    "bias_user = torch.randn(num_users_gpu, requires_grad = True, device = 'cuda:0')\n",
    "\n",
    "overall_mean = (ratings_gpu.sum() / len(ratings_gpu)).item()\n",
    "\n",
    "optimizer = torch.optim.Adam([P_gpu,Q_gpu], lr = 0.1)\n",
    "\n",
    "P_gpu = P_gpu.to(device)\n",
    "Q_gpu = Q_gpu.to(device)\n",
    "\n",
    "X = []\n",
    "Y = []\n",
    "\n",
    "for epoch in range(1000):\n",
    "    hypothesis_gpu = torch.sum(P_gpu[items_gpu] * Q_gpu[users_gpu],dim = 1) + overall_mean \n",
    "    + bias_item[items_gpu] + bias_user[users_gpu]\n",
    "    \n",
    "    cost = F.mse_loss(hypothesis_gpu, ratings_gpu)\n",
    "    \n",
    "    loss = cost + lambda1*torch.sum(P_gpu**2) + lambda1*torch.sum(Q_gpu**2) \n",
    "    + lambda1*torch.sum(bias_item ** 2) + lambda1*torch.sum(bias_user ** 2)\n",
    "\n",
    "    optimizer.zero_grad()\n",
    "    loss.backward() \n",
    "    optimizer.step() \n",
    "\n",
    "    X.append(epoch)\n",
    "    Y.append(cost.item())   \n",
    "\n",
    "    if epoch % 100 == 0:\n",
    "        print(f\"epoch: {epoch}, cost: {cost.item()}\")\n",
    "\n",
    "plt.ylabel(\"MSE\")\n",
    "plt.xlabel(\"Epoch\")\n",
    "plt.plot(X,Y, c=\"blue\", label=\"Training MSE\")\n",
    "plt.legend()\n",
    "plt.show()"
   ]
  },
  {
   "cell_type": "code",
   "execution_count": 63,
   "metadata": {},
   "outputs": [
    {
     "name": "stdout",
     "output_type": "stream",
     "text": [
      "epoch: 0, cost: 477.91259765625\n",
      "epoch: 100, cost: 197.83961486816406\n",
      "epoch: 200, cost: 197.7562713623047\n",
      "epoch: 300, cost: 197.73655700683594\n",
      "epoch: 400, cost: 197.63119506835938\n",
      "epoch: 500, cost: 197.36285400390625\n",
      "epoch: 600, cost: 196.81463623046875\n",
      "epoch: 700, cost: 195.95045471191406\n",
      "epoch: 800, cost: 194.8154296875\n",
      "epoch: 900, cost: 193.18943786621094\n",
      "epoch: 1000, cost: 191.2528076171875\n",
      "epoch: 1100, cost: 188.79736328125\n",
      "epoch: 1200, cost: 185.98081970214844\n",
      "epoch: 1300, cost: 182.82887268066406\n",
      "epoch: 1400, cost: 179.16458129882812\n",
      "epoch: 1500, cost: 175.26065063476562\n",
      "epoch: 1600, cost: 171.0150604248047\n",
      "epoch: 1700, cost: 166.65707397460938\n",
      "epoch: 1800, cost: 161.9780731201172\n",
      "epoch: 1900, cost: 157.225341796875\n",
      "epoch: 2000, cost: 152.27694702148438\n",
      "epoch: 2100, cost: 147.36428833007812\n",
      "epoch: 2200, cost: 142.1318359375\n",
      "epoch: 2300, cost: 137.316162109375\n",
      "epoch: 2400, cost: 132.11798095703125\n",
      "epoch: 2500, cost: 127.2649917602539\n",
      "epoch: 2600, cost: 122.30921936035156\n",
      "epoch: 2700, cost: 117.385986328125\n",
      "epoch: 2800, cost: 112.72041320800781\n",
      "epoch: 2900, cost: 108.11351013183594\n",
      "epoch: 3000, cost: 103.4936752319336\n",
      "epoch: 3100, cost: 99.331787109375\n",
      "epoch: 3200, cost: 94.96996307373047\n",
      "epoch: 3300, cost: 90.86567687988281\n",
      "epoch: 3400, cost: 87.00446319580078\n",
      "epoch: 3500, cost: 83.00361633300781\n",
      "epoch: 3600, cost: 79.51062774658203\n",
      "epoch: 3700, cost: 75.74009704589844\n",
      "epoch: 3800, cost: 72.53291320800781\n",
      "epoch: 3900, cost: 69.08824157714844\n",
      "epoch: 4000, cost: 65.90484619140625\n",
      "epoch: 4100, cost: 63.0535774230957\n",
      "epoch: 4200, cost: 60.009315490722656\n",
      "epoch: 4300, cost: 57.57931900024414\n",
      "epoch: 4400, cost: 54.6591796875\n",
      "epoch: 4500, cost: 52.45208740234375\n",
      "epoch: 4600, cost: 49.77098846435547\n",
      "epoch: 4700, cost: 47.89057159423828\n",
      "epoch: 4800, cost: 45.057701110839844\n",
      "epoch: 4900, cost: 42.89730453491211\n",
      "epoch: 5000, cost: 41.1820182800293\n",
      "epoch: 5100, cost: 39.62480163574219\n",
      "epoch: 5200, cost: 38.101139068603516\n",
      "epoch: 5300, cost: 36.46821212768555\n",
      "epoch: 5400, cost: 34.63230895996094\n",
      "epoch: 5500, cost: 32.99800491333008\n",
      "epoch: 5600, cost: 31.666866302490234\n",
      "epoch: 5700, cost: 30.460311889648438\n",
      "epoch: 5800, cost: 29.430261611938477\n",
      "epoch: 5900, cost: 28.514911651611328\n",
      "epoch: 6000, cost: 27.485143661499023\n",
      "epoch: 6100, cost: 26.57378578186035\n",
      "epoch: 6200, cost: 25.61288070678711\n",
      "epoch: 6300, cost: 24.55271339416504\n",
      "epoch: 6400, cost: 23.724714279174805\n",
      "epoch: 6500, cost: 22.9228572845459\n",
      "epoch: 6600, cost: 22.293197631835938\n",
      "epoch: 6700, cost: 21.6825008392334\n",
      "epoch: 6800, cost: 21.142690658569336\n",
      "epoch: 6900, cost: 20.63346290588379\n",
      "epoch: 7000, cost: 20.18565559387207\n",
      "epoch: 7100, cost: 19.702518463134766\n",
      "epoch: 7200, cost: 19.237150192260742\n",
      "epoch: 7300, cost: 18.71822166442871\n",
      "epoch: 7400, cost: 18.330076217651367\n",
      "epoch: 7500, cost: 17.98533821105957\n",
      "epoch: 7600, cost: 17.739477157592773\n",
      "epoch: 7700, cost: 17.488943099975586\n",
      "epoch: 7800, cost: 17.228757858276367\n",
      "epoch: 7900, cost: 17.031627655029297\n"
     ]
    },
    {
     "data": {
      "image/png": "[encoded data removed]",
      "text/plain": [
       "<Figure size 640x480 with 1 Axes>"
      ]
     },
     "metadata": {},
     "output_type": "display_data"
    }
   ],
   "source": [
    "latent_dim = 512\n",
    "\n",
    "num_items = items_gpu.max() + 1\n",
    "num_users = users_gpu.max() + 1\n",
    "\n",
    "torch.manual_seed(20)\n",
    "\n",
    "P_gpu = torch.randn(num_items_gpu, latent_dim, requires_grad = True, device = 'cuda:0')\n",
    "Q_gpu = torch.randn(num_users_gpu, latent_dim, requires_grad = True, device = 'cuda:0')\n",
    "\n",
    "optimizer = torch.optim.Adam([P_gpu,Q_gpu], lr = 0.1)\n",
    "\n",
    "P_gpu.to(device)\n",
    "Q_gpu.to(device)\n",
    "\n",
    "X = []\n",
    "Y = []\n",
    "Y_test = []\n",
    "\n",
    "for epoch in range(8000):\n",
    "\n",
    "    hypothesis_gpu = torch.sum(P_gpu[items_gpu] * Q_gpu[users_gpu],dim = 1) + overall_mean \n",
    "    + bias_item[items_gpu] + bias_user[users_gpu]\n",
    "\n",
    "    cost = F.mse_loss(hypothesis_gpu ,ratings_gpu)\n",
    "    loss = cost + lambda1*torch.sum(P_gpu**2) + lambda1*torch.sum(Q_gpu**2) \n",
    "    + lambda1*torch.sum(bias_item ** 2) + lambda1*torch.sum(bias_user ** 2) \n",
    "\n",
    "    optimizer.zero_grad()\n",
    "    cost.backward()\n",
    "    optimizer.step()\n",
    "\n",
    "    # 기울기 계산 필요 없다.\n",
    "    with torch.no_grad():\n",
    "        # 만들어진 P, Q matrix로 예측값을 뽑아내고 검증데이터와 비교.\n",
    "        hypo_test_gpu = torch.sum(P_gpu[items_test_gpu] * Q_gpu[users_test_gpu], dim=1)\n",
    "        cost_test = F.mse_loss(hypo_test_gpu, ratings_test_gpu)\n",
    "\n",
    "        X.append(epoch)\n",
    "        Y.append(cost.item())\n",
    "        Y_test.append(cost_test.item())\n",
    "\n",
    "    if epoch % 100 == 0:\n",
    "        print(f\"epoch: {epoch}, cost: {cost_test.item()}\")\n",
    "\n",
    "plt.ylabel(\"MSE\")\n",
    "plt.xlabel(\"Epoch\")\n",
    "plt.plot(X,Y, c=\"blue\", label=\"Training MSE\")\n",
    "plt.plot(X,Y_test, c=\"red\", label=\"Test MSE\")\n",
    "plt.legend()\n",
    "plt.show()"
   ]
  },
  {
   "cell_type": "code",
   "execution_count": null,
   "metadata": {},
   "outputs": [],
   "source": []
  }
 ],
 "metadata": {
  "kernelspec": {
   "display_name": "jw",
   "language": "python",
   "name": "python3"
  },
  "language_info": {
   "codemirror_mode": {
    "name": "ipython",
    "version": 3
   },
   "file_extension": ".py",
   "mimetype": "text/x-python",
   "name": "python",
   "nbconvert_exporter": "python",
   "pygments_lexer": "ipython3",
   "version": "3.11.4"
  },
  "orig_nbformat": 4
 },
 "nbformat": 4,
 "nbformat_minor": 2
}
