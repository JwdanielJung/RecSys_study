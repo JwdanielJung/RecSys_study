{
 "cells": [
  {
   "cell_type": "code",
   "execution_count": 130,
   "metadata": {},
   "outputs": [],
   "source": [
    "import torch\n",
    "import pandas as pd\n",
    "import torch.nn.functional as F\n",
    "import matplotlib.pyplot as plt"
   ]
  },
  {
   "cell_type": "code",
   "execution_count": 131,
   "metadata": {},
   "outputs": [
    {
     "data": {
      "text/plain": [
       "True"
      ]
     },
     "execution_count": 131,
     "metadata": {},
     "output_type": "execute_result"
    }
   ],
   "source": [
    "torch.cuda.is_available()"
   ]
  },
  {
   "cell_type": "code",
   "execution_count": 132,
   "metadata": {},
   "outputs": [
    {
     "name": "stdout",
     "output_type": "stream",
     "text": [
      "cuda:0\n"
     ]
    }
   ],
   "source": [
    "device = torch.device(\"cuda:0\" if torch.cuda.is_available() else \"cpu\")\n",
    "print(device)"
   ]
  },
  {
   "cell_type": "code",
   "execution_count": 133,
   "metadata": {},
   "outputs": [
    {
     "data": {
      "text/html": [
       "<div>\n",
       "<style scoped>\n",
       "    .dataframe tbody tr th:only-of-type {\n",
       "        vertical-align: middle;\n",
       "    }\n",
       "\n",
       "    .dataframe tbody tr th {\n",
       "        vertical-align: top;\n",
       "    }\n",
       "\n",
       "    .dataframe thead th {\n",
       "        text-align: right;\n",
       "    }\n",
       "</style>\n",
       "<table border=\"1\" class=\"dataframe\">\n",
       "  <thead>\n",
       "    <tr style=\"text-align: right;\">\n",
       "      <th></th>\n",
       "      <th>user</th>\n",
       "      <th>movie</th>\n",
       "      <th>rating</th>\n",
       "      <th>ts</th>\n",
       "    </tr>\n",
       "  </thead>\n",
       "  <tbody>\n",
       "    <tr>\n",
       "      <th>0</th>\n",
       "      <td>1</td>\n",
       "      <td>1</td>\n",
       "      <td>5</td>\n",
       "      <td>874965758</td>\n",
       "    </tr>\n",
       "    <tr>\n",
       "      <th>1</th>\n",
       "      <td>1</td>\n",
       "      <td>2</td>\n",
       "      <td>3</td>\n",
       "      <td>876893171</td>\n",
       "    </tr>\n",
       "    <tr>\n",
       "      <th>2</th>\n",
       "      <td>1</td>\n",
       "      <td>3</td>\n",
       "      <td>4</td>\n",
       "      <td>878542960</td>\n",
       "    </tr>\n",
       "    <tr>\n",
       "      <th>3</th>\n",
       "      <td>1</td>\n",
       "      <td>4</td>\n",
       "      <td>3</td>\n",
       "      <td>876893119</td>\n",
       "    </tr>\n",
       "    <tr>\n",
       "      <th>4</th>\n",
       "      <td>1</td>\n",
       "      <td>5</td>\n",
       "      <td>3</td>\n",
       "      <td>889751712</td>\n",
       "    </tr>\n",
       "  </tbody>\n",
       "</table>\n",
       "</div>"
      ],
      "text/plain": [
       "   user  movie  rating         ts\n",
       "0     1      1       5  874965758\n",
       "1     1      2       3  876893171\n",
       "2     1      3       4  878542960\n",
       "3     1      4       3  876893119\n",
       "4     1      5       3  889751712"
      ]
     },
     "execution_count": 133,
     "metadata": {},
     "output_type": "execute_result"
    }
   ],
   "source": [
    "train = pd.read_csv('/home/jwjung/Recsys/ml-100k/ml-100k/ua.base'\n",
    ",sep = '\\t', names = ['user','movie','rating','ts'])\n",
    "test = pd.read_csv('/home/jwjung/Recsys/ml-100k/ml-100k/ua.test'\n",
    ",sep = '\\t', names = ['user','movie','rating','ts'])\n",
    "\n",
    "train.head()"
   ]
  },
  {
   "cell_type": "code",
   "execution_count": 134,
   "metadata": {},
   "outputs": [],
   "source": [
    "items = torch.LongTensor(train['movie'])\n",
    "users = torch.LongTensor(train['user'])\n",
    "ratings = torch.FloatTensor(train['rating'])"
   ]
  },
  {
   "cell_type": "code",
   "execution_count": 135,
   "metadata": {},
   "outputs": [],
   "source": [
    "# items = items.to(device)\n",
    "# users = users.to(device)\n",
    "# ratings = ratings.to(device)"
   ]
  },
  {
   "cell_type": "code",
   "execution_count": 136,
   "metadata": {},
   "outputs": [],
   "source": [
    "items_test = torch.LongTensor(test['movie'])\n",
    "users_test = torch.LongTensor(test['user'])\n",
    "ratings_test = torch.FloatTensor(test['rating'])"
   ]
  },
  {
   "cell_type": "code",
   "execution_count": 137,
   "metadata": {},
   "outputs": [],
   "source": [
    "# items_test = items_test.to(device)\n",
    "# users_test = users_test.to(device)\n",
    "# ratings_test = ratings_test.to(device)"
   ]
  },
  {
   "cell_type": "code",
   "execution_count": 138,
   "metadata": {},
   "outputs": [
    {
     "name": "stdout",
     "output_type": "stream",
     "text": [
      "epoch: 0, cost: 113.9721450805664\n",
      "epoch: 100, cost: 0.07595525681972504\n",
      "epoch: 200, cost: 0.026424439623951912\n",
      "epoch: 300, cost: 0.012290881015360355\n",
      "epoch: 400, cost: 0.006570287514477968\n",
      "epoch: 500, cost: 0.0038495203480124474\n",
      "epoch: 600, cost: 0.002429467160254717\n",
      "epoch: 700, cost: 0.0015924581093713641\n",
      "epoch: 800, cost: 0.001120501197874546\n",
      "epoch: 900, cost: 0.0007672904175706208\n"
     ]
    }
   ],
   "source": [
    "latent_dim = 100\n",
    "\n",
    "num_items = items.max() + 1\n",
    "num_users = users.max() + 1\n",
    "\n",
    "torch.manual_seed(23)\n",
    "P = torch.randn(num_items, latent_dim, requires_grad = True)\n",
    "Q = torch.randn(num_users, latent_dim, requires_grad = True)\n",
    "\n",
    "optimizer = torch.optim.Adam([P,Q], lr = 0.1)\n",
    "\n",
    "# P = P.to(device)\n",
    "# Q = Q.to(device)\n",
    "\n",
    "for epoch in range(1000):\n",
    "    \"\"\"\n",
    "    1. P[items]는 P에서 해당하는 item의 벡터만 따로 뽑아오는 의미\n",
    "    P가 하나의 look-up table로서 작용\n",
    "    2. torch.sum에서 dim 없으면 전체 원소 합 도출\n",
    "    -> dim = 1은 2차원 기준으로 row 단위로 합 구하라는 의미\n",
    "    -> 여기서 dim = 1로 sum 하는 이유: 각 벡터의 feature 별 elementwise product 값이 도출된 결과가\n",
    "    rating matrix의 하나의 element로 존재 -> 그 값을 전부 더해줘야 하나의 rating 도출 가능\n",
    "    ex) feature dim = 3일 때 P*Q 결과: [-1,2,2] => 각 feature 별 점수 합친 3이 pred_rating 임!!\n",
    "    3. P * Q 는 elementwise product -> dot product 아님!!! (dot product는 torch.matmul 사용)\n",
    "    \"\"\"\n",
    "    hypothesis = torch.sum(P[items] * Q[users],dim = 1)\n",
    "    cost = F.mse_loss(hypothesis, ratings)\n",
    "\n",
    "    optimizer.zero_grad() # zero_grad 처리 안해줄 시, 이전 epoch에서 구한 grad값이 남아있어서 값이 더해짐! -> 그 값날린다 생각 (초기화)\n",
    "    cost.backward() # backpropagation 진행\n",
    "    optimizer.step() # backprop 진행 시 나온 변화도로 parameter 조정\n",
    "\n",
    "    if epoch % 100 == 0:\n",
    "        print(f\"epoch: {epoch}, cost: {cost.item()}\")"
   ]
  },
  {
   "cell_type": "code",
   "execution_count": null,
   "metadata": {},
   "outputs": [],
   "source": []
  }
 ],
 "metadata": {
  "kernelspec": {
   "display_name": "jw",
   "language": "python",
   "name": "python3"
  },
  "language_info": {
   "codemirror_mode": {
    "name": "ipython",
    "version": 3
   },
   "file_extension": ".py",
   "mimetype": "text/x-python",
   "name": "python",
   "nbconvert_exporter": "python",
   "pygments_lexer": "ipython3",
   "version": "3.11.4"
  },
  "orig_nbformat": 4
 },
 "nbformat": 4,
 "nbformat_minor": 2
}
